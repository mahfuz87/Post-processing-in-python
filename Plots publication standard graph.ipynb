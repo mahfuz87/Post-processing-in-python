{
 "cells": [
  {
   "cell_type": "code",
   "execution_count": null,
   "metadata": {},
   "outputs": [],
   "source": [
    "%matplotlib inline\n",
    "import matplotlib.pyplot as plt\n",
    "from matplotlib.ticker import (MultipleLocator, AutoMinorLocator)\n",
    "import pandas as pd\n",
    "import numpy as np\n",
    "from pandas import read_excel\n",
    "\n",
    "font = {'family' : 'DejaVu Sans',\n",
    "        'weight' : 'light',\n",
    "        'size'   : 16}\n",
    "markers = ['o', '^','s','*',\"$O$\",'P','H','x']\n",
    "colors = ['#0B7CBD', 'red', 'green', 'k', 'darkorange', 'cyan', 'olive', 'brown', 'purple']\n",
    "plt.rcParams[\"figure.figsize\"] = (6,6)\n",
    "plt.rcParams['axes.linewidth'] = 2\n",
    "params = {'mathtext.default': 'regular' }\n",
    "plt.rcParams.update(params)"
   ]
  },
  {
   "cell_type": "code",
   "execution_count": null,
   "metadata": {},
   "outputs": [],
   "source": [
    "file_name = 'mesh sensitivity.xlsx'\n",
    "sheet_name = 'Nu'\n",
    "data = read_excel(file_name, sheet_name)\n",
    "print(data.columns)"
   ]
  },
  {
   "cell_type": "code",
   "execution_count": null,
   "metadata": {},
   "outputs": [],
   "source": [
    "Re = data[\"Re_sim\"].dropna().to_numpy()\n",
    "_1_1M = data[\"1.1M\"].dropna().to_numpy()\n",
    "_2M = data[\"2M\"].dropna().to_numpy()\n",
    "_2_9M = data[\"2.9M\"].dropna().to_numpy()\n",
    "_4_6M = data[\"4.6M\"].dropna().to_numpy()\n",
    "all_y = [_1_1M, _2M, _2_9M, _4_6M]\n",
    "all_y_name = ['A : 1.1M cells', 'B : 2M cells', 'C : 2.9M cells', 'D : 4.6M cells']"
   ]
  },
  {
   "cell_type": "code",
   "execution_count": null,
   "metadata": {},
   "outputs": [],
   "source": [
    "fig, ax = plt.subplots()\n",
    "for i in range(len(all_y)):\n",
    "    p=ax.plot(Re, all_y[i], color=colors[i], linewidth=2.5, marker=markers[i], label = all_y_name[i])\n",
    "\n",
    "ax.legend()\n",
    "\n",
    "plt.xlim(0,100000)\n",
    "\n",
    "x_tic = np.arange(10000, 100000, 10000, dtype='int')\n",
    "x_tics = np.arange(10, 100, 10, dtype='int')\n",
    "x_tics = np.char.mod('%0.0f', x_tics)\n",
    "\n",
    "plt.ylim(100,1000)\n",
    "y_tic = np.arange(200,1000,100, dtype='int')\n",
    "y_tics = np.arange(2,10,1, dtype='int')\n",
    "y_tics = np.char.mod('%0.0f', y_tics)\n",
    "\n",
    "plt.xticks(x_tic, x_tics,fontsize=font['size'])\n",
    "plt.yticks(y_tic,y_tics,fontsize=font['size'])\n",
    "\n",
    "ax.set_xlabel('Reynolds number ($x10^3$)',fontdict=font)\n",
    "ax.set_ylabel('Nusselt number ($x10^2$)',fontdict=font)\n",
    "ax.xaxis.set_minor_locator(MultipleLocator(10000))\n",
    "ax.yaxis.set_minor_locator(MultipleLocator(100))\n",
    "#ax.legend(loc='upper left', bbox_to_anchor=(0.42, 0.69), fontsize=font['size'], framealpha=1)\n",
    "ax.legend(loc='upper left', fontsize=font['size'], framealpha=1)\n",
    "\n",
    "props = {\"boxstyle\": 'round',\n",
    "         \"facecolor\": '#FFFFFF',\n",
    "         \"edgecolor\" : 'darkgray',\n",
    "         \"alpha\": 0.7}\n",
    "ax.text(x=0.715, y=0.055, s='h = 3.2mm\\np/k = 10' , backgroundcolor = '#FFFFFF',\n",
    "        transform=ax.transAxes, fontdict=font, bbox=props)\n",
    "\n",
    "ax.tick_params(axis = 'both', direction = 'in', which = 'both', left=False, bottom=False)\n",
    "\n",
    "lin_prop = {\n",
    "  \"linestyle\": \"dashed\",\n",
    "  \"linewidth\": 0.6,\n",
    "    \"alpha\": 0.6\n",
    "}\n",
    "plt.grid(b=None, which='both', axis='both', **lin_prop)\n",
    "plt.tight_layout(pad=0, h_pad=None, w_pad=None, rect=None)\n",
    "plt.savefig('Nu_H32_mesh.svg', dpi=600, bbox_inches='tight')\n",
    "plt.show()"
   ]
  }
 ],
 "metadata": {
  "kernelspec": {
   "display_name": "Python 3",
   "language": "python",
   "name": "python3"
  },
  "language_info": {
   "codemirror_mode": {
    "name": "ipython",
    "version": 3
   },
   "file_extension": ".py",
   "mimetype": "text/x-python",
   "name": "python",
   "nbconvert_exporter": "python",
   "pygments_lexer": "ipython3",
   "version": "3.7.4"
  }
 },
 "nbformat": 4,
 "nbformat_minor": 2
}
