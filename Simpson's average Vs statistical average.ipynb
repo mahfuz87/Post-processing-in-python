{
 "cells": [
  {
   "cell_type": "code",
   "execution_count": null,
   "metadata": {},
   "outputs": [],
   "source": [
    "%matplotlib inline\n",
    "import matplotlib.pyplot as plt\n",
    "import pandas as pd\n",
    "import numpy as np\n",
    "from matplotlib.ticker import (MultipleLocator, AutoMinorLocator)\n",
    "\n",
    "font = {'family' : 'DejaVu Sans',\n",
    "        'weight' : 'light',\n",
    "        'size'   : 16}\n",
    "markers = ['o', '^','s','*',\"$O$\",'P','H','x']\n",
    "colors = ['#0B7CBD', 'red', 'green', 'k', 'brown', 'olive', 'purple', 'darkorange', 'cyan']\n",
    "plt.rcParams[\"figure.figsize\"] = (6,6)\n",
    "plt.rcParams['axes.linewidth'] = 2\n",
    "params = {'mathtext.default': 'regular' }\n",
    "plt.rcParams.update(params)"
   ]
  },
  {
   "cell_type": "code",
   "execution_count": null,
   "metadata": {},
   "outputs": [],
   "source": [
    "def simp(step_size):\n",
    "    x=np.arange(0, 1, step_size, dtype=float)\n",
    "    y=np.exp(x)\n",
    "    s=y[0]\n",
    "    for i in range(1,int(1/(step_size*3))+1):\n",
    "        s=s+3*(y[3*i-2]+y[3*i-1])+2*y[3*i]\n",
    "    s=s-y[int(1/(step_size))-1]\n",
    "    y_sim = (3*step_size*s)/(8*1)\n",
    "    y_ave = np.average(y)\n",
    "    return y_sim, y_ave"
   ]
  },
  {
   "cell_type": "code",
   "execution_count": null,
   "metadata": {},
   "outputs": [],
   "source": [
    "X=np.zeros(6)\n",
    "Y_sim=np.zeros(6)\n",
    "Y_ave=np.zeros(6)\n",
    "for i in range(1,7):\n",
    "    X[i-1]=10**(-i)\n",
    "    Y_sim[i-1], Y_ave[i-1] = simp(X[[i-1]])\n",
    "\n",
    "fig, ax = plt.subplots()\n",
    "ax.plot(X, Y_sim, color='red', linewidth=2.5, markersize=7.5, marker='o', label = 'Simpson')\n",
    "ax.plot(X, Y_ave, color='blue', linewidth=2.5, markersize=7.5, marker='s', label = 'Average')\n",
    "ax.legend()\n",
    "plt.xscale(\"log\")    \n",
    "plt.xticks(fontsize=font['size'])\n",
    "plt.yticks(fontsize=font['size'])\n",
    "\n",
    "ax.set_xlabel('Step size',fontdict=font)\n",
    "ax.set_ylabel('$e^x$',fontdict=font)\n",
    "legend=ax.legend(loc='best', fontsize=font['size'], framealpha=1)\n",
    "\n",
    "ax.tick_params(axis = 'both', direction = 'in', which = 'both', width=2, length=5, left=True, bottom=True)\n",
    "\n",
    "lin_prop = {\n",
    "  \"linestyle\": \"dashed\",\n",
    "  \"linewidth\": 0.7,\n",
    "    \"alpha\": 0.6\n",
    "}\n",
    "plt.grid(b=None, which='both', axis='both', **lin_prop)\n",
    "plt.tight_layout(pad=0, h_pad=None, w_pad=None, rect=None)\n",
    "plt.savefig('sim_ave.png', dpi=600, bbox_inches='tight')\n",
    "\n",
    "plt.show()"
   ]
  },
  {
   "cell_type": "code",
   "execution_count": null,
   "metadata": {},
   "outputs": [],
   "source": []
  }
 ],
 "metadata": {
  "kernelspec": {
   "display_name": "Python 3",
   "language": "python",
   "name": "python3"
  },
  "language_info": {
   "codemirror_mode": {
    "name": "ipython",
    "version": 3
   },
   "file_extension": ".py",
   "mimetype": "text/x-python",
   "name": "python",
   "nbconvert_exporter": "python",
   "pygments_lexer": "ipython3",
   "version": "3.7.4"
  }
 },
 "nbformat": 4,
 "nbformat_minor": 2
}
