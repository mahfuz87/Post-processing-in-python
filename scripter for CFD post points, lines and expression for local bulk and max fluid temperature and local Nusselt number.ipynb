{
 "cells": [
  {
   "cell_type": "code",
   "execution_count": null,
   "metadata": {},
   "outputs": [],
   "source": [
    "import numpy as np\n",
    "\n",
    "x=np.linspace(5,4000,800).astype(int)\n",
    "print(x)\n",
    "y1=np.linspace(5,3795,759).astype(int)\n",
    "print(y1)\n",
    "y2=np.linspace(3800,4000,41).astype(int)\n",
    "print(y2)\n",
    "start_point = 109"
   ]
  },
  {
   "cell_type": "code",
   "execution_count": null,
   "metadata": {},
   "outputs": [],
   "source": [
    "# texts 0.005517 0.002264\n",
    "Nu1='=(425000 [W/m^2] * 0.005517 [m])/(0.6 [W/m/K]*(Tw'\n",
    "Tm1=' = lengthInt(Velocity u* Y* Temperature)@line'\n",
    "Tm2='/lengthInt(Velocity u* Y)@line'\n",
    "Tw1=' = maxVal(Temperature)@wall'"
   ]
  },
  {
   "cell_type": "code",
   "execution_count": null,
   "metadata": {},
   "outputs": [],
   "source": [
    "file1 = open(\"expressions_H32_pk10_320.out\",\"w\")\n",
    "line1 = 'LIBRARY:\\n  CEL:\\n    EXPRESSIONS:\\n      Accumulated Time Step = 0\\n      Current Time Step = 0\\n      '\n",
    "file1.write(line1)\n",
    "file1.close()\n",
    "for i in range(len(x)):\n",
    "    file1 = open(\"expressions_H32_pk10_320.out\",\"a\")\n",
    "    line1 = 'Nu'+str(x[i])+Nu1+str(x[i])+'-Tm'+str(x[i])+'))'+'\\n      '\n",
    "    file1.write(line1)\n",
    "    file1.close()\n",
    "file1 = open(\"expressions_H32_pk10_320.out\",\"a\")\n",
    "line1 = 'Reference Pressure = 0 [Pa]\\n      Sequence Step = 0\\n      Time = 0 [s]\\n      '\n",
    "file1.write(line1)\n",
    "file1.close()\n",
    "for i in range(len(x)):\n",
    "    file1 = open(\"expressions_H32_pk10_320.out\",\"a\")\n",
    "    line1 = 'Tm'+str(x[i])+Tm1+str(x[i])+Tm2+str(x[i])+'\\n      '\n",
    "    file1.write(line1)\n",
    "    file1.close()\n",
    "for i in range(len(x)):\n",
    "    file1 = open(\"expressions_H32_pk10_320.out\",\"a\")\n",
    "    line1 = 'Tw'+str(x[i])+Tw1+str(x[i])+'\\n      '\n",
    "    file1.write(line1)\n",
    "    file1.close()\n",
    "file1 = open(\"expressions_H32_pk10.out_320\",\"a\")\n",
    "line1 = 'atstep = Accumulated Time Step\\n      ctstep = Current Time Step\\n      sstep = Sequence Step\\n      t = Time'\n",
    "line2='\\n    END\\n  END\\nEND'\n",
    "file1.write(line1+line2)\n",
    "file1.close()"
   ]
  },
  {
   "cell_type": "code",
   "execution_count": null,
   "metadata": {},
   "outputs": [],
   "source": [
    "lines = []\n",
    "with open('wall.txt') as f:\n",
    "    lines = f.readlines()\n",
    "f.close()\n",
    "file1 = open(\"points_lines_H32_pk10_320.out\",\"w\")\n",
    "file1.close()\n",
    "for i in range(len(y1)):\n",
    "    lines[0]='POINT: wall'+str(y1[i])+'\\n'\n",
    "    lines[19]='  Point = '+str(start_point+y1[i]/1000)+' [mm], 0 [mm], 0 [mm]\\n'\n",
    "    file1 = open(\"points_lines_H32_pk10_320.out\",\"a\")\n",
    "    new_lines=\"\".join(lines)\n",
    "    file1.write(new_lines)\n",
    "    file1.write('\\n\\n')\n",
    "    file1.close()\n",
    "\n",
    "for i in range(len(y2)):\n",
    "    lines[0]='POINT: wall'+str(y2[i])+'\\n'\n",
    "    lines[19]='  Point = '+str(start_point+y2[i]/1000)+' [mm], 0.2 [mm], 0 [mm]\\n'\n",
    "    file1 = open(\"points_lines_H32_pk10_320.out\",\"a\")\n",
    "    new_lines=\"\".join(lines)\n",
    "    file1.write(new_lines)\n",
    "    file1.write('\\n\\n')\n",
    "    file1.close()"
   ]
  },
  {
   "cell_type": "code",
   "execution_count": null,
   "metadata": {},
   "outputs": [],
   "source": [
    "lines = []\n",
    "with open('line.txt') as f:\n",
    "    lines = f.readlines()\n",
    "f.close()\n",
    "for i in range(len(y1)):\n",
    "    lines[0]='LINE: line'+str(y1[i])+'\\n'\n",
    "    lines[16]='  Point 1 = '+str(start_point+y1[i]/1000)+' [mm], 0 [mm], 0 [mm]\\n'\n",
    "    lines[17]='  Point 2 = '+str(start_point+y1[i]/1000)+' [mm], 3.2 [mm], 0 [mm]\\n'\n",
    "    file1 = open(\"points_lines_H32_pk10_320.out\",\"a\")\n",
    "    new_lines=\"\".join(lines)\n",
    "    file1.write(new_lines)\n",
    "    file1.write('\\n\\n')\n",
    "    file1.close()\n",
    "\n",
    "for i in range(len(y2)):\n",
    "    lines[0]='LINE: line'+str(y2[i])+'\\n'\n",
    "    lines[16]='  Point 1 = '+str(start_point+y2[i]/1000)+' [mm], 0.2 [mm], 0 [mm]\\n'\n",
    "    lines[17]='  Point 2 = '+str(start_point+y2[i]/1000)+' [mm], 3.2 [mm], 0 [mm]\\n'\n",
    "    file1 = open(\"points_lines_H32_pk10_320.out\",\"a\")\n",
    "    new_lines=\"\".join(lines)\n",
    "    file1.write(new_lines)\n",
    "    file1.write('\\n\\n')\n",
    "    file1.close()"
   ]
  },
  {
   "cell_type": "code",
   "execution_count": null,
   "metadata": {},
   "outputs": [],
   "source": [
    "file1 = open(\"Nu_320.out\",\"w\")\n",
    "file1.close()\n",
    "for i in range(len(x)):\n",
    "    file1 = open(\"Nu_320.out\",\"a\")\n",
    "    line1 = '=Nu'+str(x[i])+'\\n      '\n",
    "    file1.write(line1)\n",
    "    file1.close()"
   ]
  },
  {
   "cell_type": "code",
   "execution_count": null,
   "metadata": {},
   "outputs": [],
   "source": []
  }
 ],
 "metadata": {
  "kernelspec": {
   "display_name": "Python 3",
   "language": "python",
   "name": "python3"
  },
  "language_info": {
   "codemirror_mode": {
    "name": "ipython",
    "version": 3
   },
   "file_extension": ".py",
   "mimetype": "text/x-python",
   "name": "python",
   "nbconvert_exporter": "python",
   "pygments_lexer": "ipython3",
   "version": "3.7.4"
  }
 },
 "nbformat": 4,
 "nbformat_minor": 2
}
