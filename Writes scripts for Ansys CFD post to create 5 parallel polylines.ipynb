{
 "cells": [
  {
   "cell_type": "code",
   "execution_count": null,
   "metadata": {},
   "outputs": [],
   "source": [
    "import pandas as pd\n",
    "import numpy as np\n",
    "import csv"
   ]
  },
  {
   "cell_type": "code",
   "execution_count": null,
   "metadata": {},
   "outputs": [],
   "source": [
    "zer = np.zeros(180, dtype=float)\n",
    "one = np.ones(20, dtype=float)\n",
    "add = np.concatenate([zer, one])\n",
    "add = np.tile(add,50)\n",
    "\n",
    "X = np.arange(0.08101, 0.18101, 0.00001, dtype=float)\n",
    "Z = np.zeros(10000, dtype=float)\n",
    "\n",
    "Y1 = np.zeros(10000, dtype=float)\n",
    "Y1 = Y1 + 0.0002*add\n",
    "Y2 = Y1 + 0.00001\n",
    "Y3 = Y2 + 0.00001\n",
    "Y4 = Y3 + 0.00001\n",
    "Y5 = Y4 + 0.00001"
   ]
  },
  {
   "cell_type": "code",
   "execution_count": null,
   "metadata": {},
   "outputs": [],
   "source": [
    "df1 = pd.DataFrame({\"X [m]\" : X, \"Y [m]\" : Y1, \"Z [m]\" : Z})\n",
    "df2 = pd.DataFrame({\"X [m]\" : X, \"Y [m]\" : Y2, \"Z [m]\" : Z})\n",
    "df3 = pd.DataFrame({\"X [m]\" : X, \"Y [m]\" : Y3, \"Z [m]\" : Z})\n",
    "df4 = pd.DataFrame({\"X [m]\" : X, \"Y [m]\" : Y4, \"Z [m]\" : Z})\n",
    "df5 = pd.DataFrame({\"X [m]\" : X, \"Y [m]\" : Y5, \"Z [m]\" : Z})\n",
    "\n",
    "lines1 = [['[Name]'],['Polyline 1'],[],['[Data]']]\n",
    "lines2 = [['[Name]'],['Polyline 2'],[],['[Data]']]\n",
    "lines3 = [['[Name]'],['Polyline 3'],[],['[Data]']]\n",
    "lines4 = [['[Name]'],['Polyline 4'],[],['[Data]']]\n",
    "lines5 = [['[Name]'],['Polyline 5'],[],['[Data]']]\n",
    "\n",
    "with open('pol1.csv', 'w', newline='') as f:\n",
    "    writer = csv.writer(f)\n",
    "    writer.writerows(lines1)\n",
    "\n",
    "with open('pol2.csv', 'w', newline='') as f:\n",
    "    writer = csv.writer(f)\n",
    "    writer.writerows(lines2)\n",
    "\n",
    "with open('pol3.csv', 'w', newline='') as f:\n",
    "    writer = csv.writer(f)\n",
    "    writer.writerows(lines3)\n",
    "\n",
    "with open('pol4.csv', 'w', newline='') as f:\n",
    "    writer = csv.writer(f)\n",
    "    writer.writerows(lines4)\n",
    "\n",
    "with open('pol5.csv', 'w', newline='') as f:\n",
    "    writer = csv.writer(f)\n",
    "    writer.writerows(lines5)\n",
    "\n",
    "df1.to_csv('pol1.csv', mode='a', header=True, index=False)\n",
    "df2.to_csv('pol2.csv', mode='a', header=True, index=False)\n",
    "df3.to_csv('pol3.csv', mode='a', header=True, index=False)\n",
    "df4.to_csv('pol4.csv', mode='a', header=True, index=False)\n",
    "df5.to_csv('pol5.csv', mode='a', header=True, index=False)"
   ]
  },
  {
   "cell_type": "code",
   "execution_count": null,
   "metadata": {},
   "outputs": [],
   "source": []
  }
 ],
 "metadata": {
  "kernelspec": {
   "display_name": "Python 3",
   "language": "python",
   "name": "python3"
  },
  "language_info": {
   "codemirror_mode": {
    "name": "ipython",
    "version": 3
   },
   "file_extension": ".py",
   "mimetype": "text/x-python",
   "name": "python",
   "nbconvert_exporter": "python",
   "pygments_lexer": "ipython3",
   "version": "3.7.4"
  }
 },
 "nbformat": 4,
 "nbformat_minor": 2
}
