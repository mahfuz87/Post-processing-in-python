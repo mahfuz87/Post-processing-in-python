{
 "cells": [
  {
   "cell_type": "code",
   "execution_count": null,
   "metadata": {},
   "outputs": [],
   "source": [
    "%matplotlib inline\n",
    "import matplotlib.pyplot as plt\n",
    "from matplotlib.ticker import (MultipleLocator, AutoMinorLocator)\n",
    "from matplotlib.animation import FuncAnimation\n",
    "import pandas as pd\n",
    "import numpy as np\n",
    "\n",
    "font = {'family' : 'DejaVu Sans',\n",
    "        'weight' : 'light',\n",
    "        'size'   : 16}\n",
    "font_cp = {'family' : 'DejaVu Sans',\n",
    "           'weight' : 'light',\n",
    "           'size'   : 18}"
   ]
  },
  {
   "cell_type": "code",
   "execution_count": null,
   "metadata": {},
   "outputs": [],
   "source": [
    "data = pd.read_csv(\"last720.csv\")\n",
    "data.head(5)"
   ]
  },
  {
   "cell_type": "code",
   "execution_count": null,
   "metadata": {},
   "outputs": [],
   "source": [
    "deg_last = data[\"deg\"][0:720].to_numpy()\n",
    "Nan_last = data[\"Nan_last\"][0:720].to_numpy()\n",
    "Max_last = data[\"Max_last\"][0:720].to_numpy()\n",
    "deg = data[\"deg\"].to_numpy()\n",
    "Nan_full = data[\"Nan_full\"].to_numpy()\n",
    "Max_full = data[\"Max_full\"].to_numpy()"
   ]
  },
  {
   "cell_type": "code",
   "execution_count": null,
   "metadata": {},
   "outputs": [],
   "source": [
    "x = [deg_last[0]]\n",
    "y=[Nan_last[0]]\n",
    "x_max_lim = np.max(Nan_last)\n",
    "# Create the figure and axes to animate\n",
    "fig, ax = plt.subplots(1)\n",
    "# init_func() is called at the beginning of the animation\n",
    "def init_func():\n",
    "    ax.clear()\n",
    "\n",
    "# update_plot() is called between frames\n",
    "def update_plot(i):\n",
    "    ax.clear()\n",
    "    global x\n",
    "    x=np.append(x,deg_last[i])\n",
    "    global y\n",
    "    y=np.append(y,Nan_last[i])\n",
    "    ax.plot(x, y)\n",
    "    plt.xlim(0,360)\n",
    "    plt.ylim(-0.05,x_max_lim+0.05)\n",
    "    \n",
    "    \n",
    "# Create animation\n",
    "anim = FuncAnimation(fig,\n",
    "                     update_plot,\n",
    "                     frames=np.arange(0, 720),\n",
    "                     init_func=init_func)\n",
    " \n",
    "# Save animation\n",
    "anim.save('Nan48.mp4',\n",
    "          dpi=150,\n",
    "          fps=48,\n",
    "          writer='ffmpeg')"
   ]
  }
 ],
 "metadata": {
  "kernelspec": {
   "display_name": "Python 3",
   "language": "python",
   "name": "python3"
  },
  "language_info": {
   "codemirror_mode": {
    "name": "ipython",
    "version": 3
   },
   "file_extension": ".py",
   "mimetype": "text/x-python",
   "name": "python",
   "nbconvert_exporter": "python",
   "pygments_lexer": "ipython3",
   "version": "3.7.4"
  }
 },
 "nbformat": 4,
 "nbformat_minor": 2
}
